{
 "cells": [
  {
   "cell_type": "code",
   "execution_count": 21,
   "id": "44219a32",
   "metadata": {},
   "outputs": [],
   "source": [
    "import tensorflow as tf\n",
    "from tensorflow import keras\n",
    "from tensorflow.keras import datasets,layers,models\n",
    "import matplotlib.pyplot as plt\n",
    "%matplotlib inline\n",
    "import numpy as np"
   ]
  },
  {
   "cell_type": "code",
   "execution_count": 2,
   "id": "40de424d",
   "metadata": {},
   "outputs": [
    {
     "name": "stdout",
     "output_type": "stream",
     "text": [
      "Downloading data from https://storage.googleapis.com/tensorflow/tf-keras-datasets/mnist.npz\n",
      "11490434/11490434 [==============================] - 4s 0us/step\n"
     ]
    }
   ],
   "source": [
    "(X_train, y_train) , (X_test, y_test) = keras.datasets.mnist.load_data()"
   ]
  },
  {
   "cell_type": "code",
   "execution_count": 3,
   "id": "f370178c",
   "metadata": {},
   "outputs": [
    {
     "data": {
      "text/plain": [
       "60000"
      ]
     },
     "execution_count": 3,
     "metadata": {},
     "output_type": "execute_result"
    }
   ],
   "source": [
    "len(X_train)"
   ]
  },
  {
   "cell_type": "code",
   "execution_count": 4,
   "id": "b66277b2",
   "metadata": {},
   "outputs": [
    {
     "data": {
      "text/plain": [
       "10000"
      ]
     },
     "execution_count": 4,
     "metadata": {},
     "output_type": "execute_result"
    }
   ],
   "source": [
    "len(X_test)"
   ]
  },
  {
   "cell_type": "code",
   "execution_count": 11,
   "id": "4d0f9a61",
   "metadata": {},
   "outputs": [
    {
     "data": {
      "text/plain": [
       "(28, 28)"
      ]
     },
     "execution_count": 11,
     "metadata": {},
     "output_type": "execute_result"
    }
   ],
   "source": [
    "X_train[2].shape"
   ]
  },
  {
   "cell_type": "code",
   "execution_count": 14,
   "id": "b90a4ab9",
   "metadata": {},
   "outputs": [
    {
     "data": {
      "text/plain": [
       "<matplotlib.image.AxesImage at 0x19cf195cd30>"
      ]
     },
     "execution_count": 14,
     "metadata": {},
     "output_type": "execute_result"
    },
    {
     "data": {
      "image/png": "[encoded data removed]",
      "text/plain": [
       "<Figure size 432x288 with 1 Axes>"
      ]
     },
     "metadata": {
      "needs_background": "light"
     },
     "output_type": "display_data"
    }
   ],
   "source": [
    "plt.imshow(X_train[1])"
   ]
  },
  {
   "cell_type": "code",
   "execution_count": 16,
   "id": "f52bf001",
   "metadata": {},
   "outputs": [
    {
     "data": {
      "text/plain": [
       "0"
      ]
     },
     "execution_count": 16,
     "metadata": {},
     "output_type": "execute_result"
    }
   ],
   "source": [
    "y_train[1]  #y_train is class label saying this digit is 0"
   ]
  },
  {
   "cell_type": "code",
   "execution_count": 17,
   "id": "175f53e0",
   "metadata": {},
   "outputs": [],
   "source": [
    "#scaling the dataset\n",
    "X_train = X_train / 255\n",
    "X_test = X_test / 255"
   ]
  },
  {
   "cell_type": "code",
   "execution_count": 31,
   "id": "70a356bf",
   "metadata": {},
   "outputs": [],
   "source": [
    "#After scaling convert the 2-d matrix to a 1-d array\n",
    "X_train = X_train.reshape(-1,28,28,1)\n",
    "X_test = X_test.reshape(-1,28,28,1)"
   ]
  },
  {
   "cell_type": "code",
   "execution_count": 36,
   "id": "60e719c2",
   "metadata": {},
   "outputs": [],
   "source": [
    "cnn = models.Sequential([\n",
    "    layers.Conv2D(filters=32, kernel_size=(3, 3), activation='relu', input_shape=(28,28,1)), \n",
    "    layers.MaxPooling2D((2, 2)),\n",
    "    layers.Conv2D(filters=64, kernel_size=(3, 3), activation='relu'),\n",
    "    layers.MaxPooling2D((2, 2)),\n",
    "    layers.Conv2D(filters=64, kernel_size=(3, 3), activation='relu'),\n",
    "    layers.MaxPooling2D((2, 2)),\n",
    "    layers.Flatten(),\n",
    "    layers.Dense(64, activation='relu'),\n",
    "    layers.Dense(10, activation='softmax')\n",
    "])"
   ]
  },
  {
   "cell_type": "code",
   "execution_count": 37,
   "id": "87ad9081",
   "metadata": {},
   "outputs": [],
   "source": [
    "cnn=models.Sequential([\n",
    "    #cnn\n",
    "    layers.Conv2D(filters=25, kernel_size=(3,3),activation='relu',input_shape=(28,28,1)),    #conv layer. It will figure out the filters on its own. we dont have to tell explicitly.\n",
    "                                                                                            #we need to tell filter size and how many filter to use\n",
    "    layers.MaxPooling2D((2,2)),  #max pooling layer \n",
    "#     layers.Conv2D(filters=32, kernel_size=(3,3),activation='relu',input_shape=(32,32,3)),    \n",
    "#     layers.MaxPooling2D((2,2)),\n",
    "    layers.Conv2D(filters=25, kernel_size=(3,3),activation='relu',input_shape=(28,28,1)),\n",
    "    layers.MaxPooling2D((2,2)), \n",
    "    layers.Conv2D(filters=25, kernel_size=(3,3),activation='relu',input_shape=(28,28,1)),\n",
    "    layers.MaxPooling2D((2,2)),\n",
    "    #dense\n",
    "    layers.Flatten(),\n",
    "    layers.Dense(64,activation='relu'),\n",
    "    layers.Dense(10,activation='softmax'),    \n",
    "])"
   ]
  },
  {
   "cell_type": "code",
   "execution_count": 38,
   "id": "92d7426a",
   "metadata": {},
   "outputs": [],
   "source": [
    "cnn.compile(optimizer=\"adam\",loss=\"sparse_categorical_crossentropy\",metrics=['accuracy'])"
   ]
  },
  {
   "cell_type": "code",
   "execution_count": 40,
   "id": "feda26d8",
   "metadata": {},
   "outputs": [
    {
     "name": "stdout",
     "output_type": "stream",
     "text": [
      "Epoch 1/20\n",
      "1875/1875 [==============================] - 35s 18ms/step - loss: 0.3099 - accuracy: 0.9039\n",
      "Epoch 2/20\n",
      "1875/1875 [==============================] - 32s 17ms/step - loss: 0.1146 - accuracy: 0.9644\n",
      "Epoch 3/20\n",
      "1875/1875 [==============================] - 29s 15ms/step - loss: 0.0858 - accuracy: 0.9730\n",
      "Epoch 4/20\n",
      "1875/1875 [==============================] - 28s 15ms/step - loss: 0.0703 - accuracy: 0.9785\n",
      "Epoch 5/20\n",
      "1875/1875 [==============================] - 29s 15ms/step - loss: 0.0594 - accuracy: 0.9813\n",
      "Epoch 6/20\n",
      "1875/1875 [==============================] - 22s 12ms/step - loss: 0.0510 - accuracy: 0.9840\n",
      "Epoch 7/20\n",
      "1875/1875 [==============================] - 22s 12ms/step - loss: 0.0447 - accuracy: 0.9856\n",
      "Epoch 8/20\n",
      "1875/1875 [==============================] - 21s 11ms/step - loss: 0.0386 - accuracy: 0.9879\n",
      "Epoch 9/20\n",
      "1875/1875 [==============================] - 21s 11ms/step - loss: 0.0359 - accuracy: 0.9884\n",
      "Epoch 10/20\n",
      "1875/1875 [==============================] - 21s 11ms/step - loss: 0.0333 - accuracy: 0.9893\n",
      "Epoch 11/20\n",
      "1875/1875 [==============================] - 21s 11ms/step - loss: 0.0289 - accuracy: 0.9908\n",
      "Epoch 12/20\n",
      "1875/1875 [==============================] - 21s 11ms/step - loss: 0.0279 - accuracy: 0.9904\n",
      "Epoch 13/20\n",
      "1875/1875 [==============================] - 21s 11ms/step - loss: 0.0242 - accuracy: 0.9922\n",
      "Epoch 14/20\n",
      "1875/1875 [==============================] - 20s 11ms/step - loss: 0.0235 - accuracy: 0.9923\n",
      "Epoch 15/20\n",
      "1875/1875 [==============================] - 20s 11ms/step - loss: 0.0214 - accuracy: 0.9927\n",
      "Epoch 16/20\n",
      "1875/1875 [==============================] - 21s 11ms/step - loss: 0.0187 - accuracy: 0.9937\n",
      "Epoch 17/20\n",
      "1875/1875 [==============================] - 23s 12ms/step - loss: 0.0185 - accuracy: 0.9938\n",
      "Epoch 18/20\n",
      "1875/1875 [==============================] - 21s 11ms/step - loss: 0.0166 - accuracy: 0.9943\n",
      "Epoch 19/20\n",
      "1875/1875 [==============================] - 21s 11ms/step - loss: 0.0165 - accuracy: 0.9946\n",
      "Epoch 20/20\n",
      "1875/1875 [==============================] - 22s 12ms/step - loss: 0.0133 - accuracy: 0.9958\n"
     ]
    },
    {
     "data": {
      "text/plain": [
       "<keras.callbacks.History at 0x19cf84b37f0>"
      ]
     },
     "execution_count": 40,
     "metadata": {},
     "output_type": "execute_result"
    }
   ],
   "source": [
    "cnn.fit(X_train,y_train,epochs=20)"
   ]
  },
  {
   "cell_type": "code",
   "execution_count": 41,
   "id": "803e2f96",
   "metadata": {},
   "outputs": [
    {
     "name": "stdout",
     "output_type": "stream",
     "text": [
      "313/313 [==============================] - 1s 4ms/step - loss: 0.0612 - accuracy: 0.9860\n"
     ]
    },
    {
     "data": {
      "text/plain": [
       "[0.06117609888315201, 0.9860000014305115]"
      ]
     },
     "execution_count": 41,
     "metadata": {},
     "output_type": "execute_result"
    }
   ],
   "source": [
    "cnn.evaluate(X_test, y_test)"
   ]
  },
  {
   "cell_type": "code",
   "execution_count": 42,
   "id": "f0bd47e1",
   "metadata": {},
   "outputs": [
    {
     "name": "stdout",
     "output_type": "stream",
     "text": [
      "313/313 [==============================] - 1s 4ms/step\n"
     ]
    }
   ],
   "source": [
    "y_predicted_by_model = cnn.predict(X_test)"
   ]
  },
  {
   "cell_type": "code",
   "execution_count": 43,
   "id": "9b629901",
   "metadata": {},
   "outputs": [],
   "source": [
    "y_pred_classes=[np.argmax(e) for e in y_predicted_by_model]"
   ]
  },
  {
   "cell_type": "code",
   "execution_count": 44,
   "id": "0a727d33",
   "metadata": {},
   "outputs": [
    {
     "data": {
      "text/plain": [
       "7"
      ]
     },
     "execution_count": 44,
     "metadata": {},
     "output_type": "execute_result"
    }
   ],
   "source": [
    "y_pred_classes[0]"
   ]
  },
  {
   "cell_type": "code",
   "execution_count": 45,
   "id": "7e99d5c4",
   "metadata": {},
   "outputs": [
    {
     "data": {
      "text/plain": [
       "7"
      ]
     },
     "execution_count": 45,
     "metadata": {},
     "output_type": "execute_result"
    }
   ],
   "source": [
    "y_test[0]"
   ]
  },
  {
   "cell_type": "code",
   "execution_count": 46,
   "id": "fbe4043b",
   "metadata": {},
   "outputs": [
    {
     "data": {
      "text/plain": [
       "0.99999994"
      ]
     },
     "execution_count": 46,
     "metadata": {},
     "output_type": "execute_result"
    }
   ],
   "source": [
    "np.sum(y_predicted_by_model[0]) #sum of all preds given by softmax is always = 1"
   ]
  },
  {
   "cell_type": "code",
   "execution_count": null,
   "id": "8ba48c3d",
   "metadata": {},
   "outputs": [],
   "source": []
  }
 ],
 "metadata": {
  "kernelspec": {
   "display_name": "Python 3 (ipykernel)",
   "language": "python",
   "name": "python3"
  },
  "language_info": {
   "codemirror_mode": {
    "name": "ipython",
    "version": 3
   },
   "file_extension": ".py",
   "mimetype": "text/x-python",
   "name": "python",
   "nbconvert_exporter": "python",
   "pygments_lexer": "ipython3",
   "version": "3.10.2"
  }
 },
 "nbformat": 4,
 "nbformat_minor": 5
}
